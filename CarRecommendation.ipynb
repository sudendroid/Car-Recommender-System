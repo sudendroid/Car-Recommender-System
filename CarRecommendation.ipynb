{
 "cells": [
  {
   "cell_type": "code",
   "execution_count": 1,
   "metadata": {},
   "outputs": [],
   "source": [
    "import pandas as pd"
   ]
  },
  {
   "cell_type": "code",
   "execution_count": 2,
   "metadata": {},
   "outputs": [
    {
     "name": "stdout",
     "output_type": "stream",
     "text": [
      "(227, 6)\n"
     ]
    },
    {
     "data": {
      "text/html": [
       "<div>\n",
       "<style scoped>\n",
       "    .dataframe tbody tr th:only-of-type {\n",
       "        vertical-align: middle;\n",
       "    }\n",
       "\n",
       "    .dataframe tbody tr th {\n",
       "        vertical-align: top;\n",
       "    }\n",
       "\n",
       "    .dataframe thead th {\n",
       "        text-align: right;\n",
       "    }\n",
       "</style>\n",
       "<table border=\"1\" class=\"dataframe\">\n",
       "  <thead>\n",
       "    <tr style=\"text-align: right;\">\n",
       "      <th></th>\n",
       "      <th>brand_name</th>\n",
       "      <th>model_name</th>\n",
       "      <th>starting_price</th>\n",
       "      <th>body_type</th>\n",
       "      <th>engine-cc</th>\n",
       "      <th>mileage</th>\n",
       "    </tr>\n",
       "  </thead>\n",
       "  <tbody>\n",
       "    <tr>\n",
       "      <th>0</th>\n",
       "      <td>Maruti</td>\n",
       "      <td>Alto 800</td>\n",
       "      <td>₹ 2.94 Lakh*</td>\n",
       "      <td>Hatchback</td>\n",
       "      <td>796.0</td>\n",
       "      <td>31.59</td>\n",
       "    </tr>\n",
       "    <tr>\n",
       "      <th>1</th>\n",
       "      <td>Maruti</td>\n",
       "      <td>Alto K10</td>\n",
       "      <td>₹ 3.17 Lakh*</td>\n",
       "      <td>Hatchback</td>\n",
       "      <td>998.0</td>\n",
       "      <td>32.26</td>\n",
       "    </tr>\n",
       "    <tr>\n",
       "      <th>2</th>\n",
       "      <td>Maruti</td>\n",
       "      <td>S-Presso</td>\n",
       "      <td>₹ 3.7 Lakh*</td>\n",
       "      <td>Hatchback</td>\n",
       "      <td>998.0</td>\n",
       "      <td>21.70</td>\n",
       "    </tr>\n",
       "    <tr>\n",
       "      <th>3</th>\n",
       "      <td>Maruti</td>\n",
       "      <td>Eeco</td>\n",
       "      <td>₹ 3.8 Lakh*</td>\n",
       "      <td>Minivans</td>\n",
       "      <td>1196.0</td>\n",
       "      <td>21.94</td>\n",
       "    </tr>\n",
       "    <tr>\n",
       "      <th>4</th>\n",
       "      <td>Maruti</td>\n",
       "      <td>Celerio</td>\n",
       "      <td>₹ 4.41 Lakh*</td>\n",
       "      <td>Hatchback</td>\n",
       "      <td>998.0</td>\n",
       "      <td>21.63</td>\n",
       "    </tr>\n",
       "  </tbody>\n",
       "</table>\n",
       "</div>"
      ],
      "text/plain": [
       "  brand_name model_name starting_price  body_type  engine-cc  mileage\n",
       "0     Maruti   Alto 800   ₹ 2.94 Lakh*  Hatchback      796.0    31.59\n",
       "1     Maruti   Alto K10   ₹ 3.17 Lakh*  Hatchback      998.0    32.26\n",
       "2     Maruti   S-Presso    ₹ 3.7 Lakh*  Hatchback      998.0    21.70\n",
       "3     Maruti       Eeco    ₹ 3.8 Lakh*   Minivans     1196.0    21.94\n",
       "4     Maruti    Celerio   ₹ 4.41 Lakh*  Hatchback      998.0    21.63"
      ]
     },
     "execution_count": 2,
     "metadata": {},
     "output_type": "execute_result"
    }
   ],
   "source": [
    "data = pd.read_csv('data/car_models_data.csv')\n",
    "print(data.shape)\n",
    "data.head()"
   ]
  },
  {
   "cell_type": "code",
   "execution_count": 3,
   "metadata": {},
   "outputs": [
    {
     "data": {
      "text/plain": [
       "Index(['brand_name', 'model_name', 'starting_price', 'body_type', 'engine-cc',\n",
       "       'mileage'],\n",
       "      dtype='object')"
      ]
     },
     "execution_count": 3,
     "metadata": {},
     "output_type": "execute_result"
    }
   ],
   "source": [
    "data.columns"
   ]
  },
  {
   "cell_type": "code",
   "execution_count": 4,
   "metadata": {},
   "outputs": [
    {
     "data": {
      "text/plain": [
       "brand_name        False\n",
       "model_name        False\n",
       "starting_price    False\n",
       "body_type         False\n",
       "engine-cc          True\n",
       "mileage           False\n",
       "dtype: bool"
      ]
     },
     "execution_count": 4,
     "metadata": {},
     "output_type": "execute_result"
    }
   ],
   "source": [
    "data.isnull().any()"
   ]
  },
  {
   "cell_type": "code",
   "execution_count": 5,
   "metadata": {},
   "outputs": [
    {
     "data": {
      "text/html": [
       "<div>\n",
       "<style scoped>\n",
       "    .dataframe tbody tr th:only-of-type {\n",
       "        vertical-align: middle;\n",
       "    }\n",
       "\n",
       "    .dataframe tbody tr th {\n",
       "        vertical-align: top;\n",
       "    }\n",
       "\n",
       "    .dataframe thead th {\n",
       "        text-align: right;\n",
       "    }\n",
       "</style>\n",
       "<table border=\"1\" class=\"dataframe\">\n",
       "  <thead>\n",
       "    <tr style=\"text-align: right;\">\n",
       "      <th></th>\n",
       "      <th>brand_name</th>\n",
       "      <th>model_name</th>\n",
       "      <th>starting_price</th>\n",
       "      <th>body_type</th>\n",
       "      <th>engine-cc</th>\n",
       "      <th>mileage</th>\n",
       "    </tr>\n",
       "  </thead>\n",
       "  <tbody>\n",
       "    <tr>\n",
       "      <th>28</th>\n",
       "      <td>Hyundai</td>\n",
       "      <td>Kona Electric</td>\n",
       "      <td>₹ 23.71 Lakh*</td>\n",
       "      <td>SUV</td>\n",
       "      <td>NaN</td>\n",
       "      <td>0.0</td>\n",
       "    </tr>\n",
       "    <tr>\n",
       "      <th>47</th>\n",
       "      <td>Tata</td>\n",
       "      <td>Tigor EV</td>\n",
       "      <td>₹ 9.17 Lakh*</td>\n",
       "      <td>Sedans</td>\n",
       "      <td>NaN</td>\n",
       "      <td>0.0</td>\n",
       "    </tr>\n",
       "    <tr>\n",
       "      <th>51</th>\n",
       "      <td>Tata</td>\n",
       "      <td>Nexon EV</td>\n",
       "      <td>₹ 13.99 Lakh*</td>\n",
       "      <td>SUV</td>\n",
       "      <td>NaN</td>\n",
       "      <td>0.0</td>\n",
       "    </tr>\n",
       "    <tr>\n",
       "      <th>53</th>\n",
       "      <td>Mahindra</td>\n",
       "      <td>e2oPlus</td>\n",
       "      <td>₹ 6.07 Lakh*</td>\n",
       "      <td>Hatchback</td>\n",
       "      <td>NaN</td>\n",
       "      <td>110.0</td>\n",
       "    </tr>\n",
       "    <tr>\n",
       "      <th>60</th>\n",
       "      <td>Mahindra</td>\n",
       "      <td>E Verito</td>\n",
       "      <td>₹ 9.12 Lakh*</td>\n",
       "      <td>Sedans</td>\n",
       "      <td>NaN</td>\n",
       "      <td>0.0</td>\n",
       "    </tr>\n",
       "    <tr>\n",
       "      <th>100</th>\n",
       "      <td>MG</td>\n",
       "      <td>ZS EV</td>\n",
       "      <td>₹ 20.88 Lakh*</td>\n",
       "      <td>SUV</td>\n",
       "      <td>NaN</td>\n",
       "      <td>0.0</td>\n",
       "    </tr>\n",
       "  </tbody>\n",
       "</table>\n",
       "</div>"
      ],
      "text/plain": [
       "    brand_name     model_name starting_price  body_type  engine-cc  mileage\n",
       "28     Hyundai  Kona Electric  ₹ 23.71 Lakh*        SUV        NaN      0.0\n",
       "47        Tata       Tigor EV   ₹ 9.17 Lakh*     Sedans        NaN      0.0\n",
       "51        Tata       Nexon EV  ₹ 13.99 Lakh*        SUV        NaN      0.0\n",
       "53    Mahindra        e2oPlus   ₹ 6.07 Lakh*  Hatchback        NaN    110.0\n",
       "60    Mahindra       E Verito   ₹ 9.12 Lakh*     Sedans        NaN      0.0\n",
       "100         MG          ZS EV  ₹ 20.88 Lakh*        SUV        NaN      0.0"
      ]
     },
     "execution_count": 5,
     "metadata": {},
     "output_type": "execute_result"
    }
   ],
   "source": [
    "data[data.isnull().any(1)]"
   ]
  },
  {
   "cell_type": "code",
   "execution_count": 6,
   "metadata": {},
   "outputs": [],
   "source": [
    "data = data.dropna()"
   ]
  },
  {
   "cell_type": "code",
   "execution_count": 7,
   "metadata": {},
   "outputs": [
    {
     "data": {
      "text/plain": [
       "(221, 6)"
      ]
     },
     "execution_count": 7,
     "metadata": {},
     "output_type": "execute_result"
    }
   ],
   "source": [
    "data.shape"
   ]
  },
  {
   "cell_type": "markdown",
   "metadata": {},
   "source": [
    "<h1>Clean Data</h1>"
   ]
  },
  {
   "cell_type": "code",
   "execution_count": 8,
   "metadata": {},
   "outputs": [
    {
     "name": "stdout",
     "output_type": "stream",
     "text": [
      "23.71\n",
      "271.0\n"
     ]
    }
   ],
   "source": [
    "import re\n",
    "\n",
    "def get_cleaned_price(raw_price):\n",
    "    m = re.search(r\"[-+]?\\d*\\.?\\d+|\\d+\", raw_price)\n",
    "    group = m.group()\n",
    "    return float(group) if 'Lakh' in raw_price else float(group) * 100\n",
    "\n",
    "print(get_cleaned_price(\"₹ 23.71 Lakh*\"))\n",
    "print(get_cleaned_price(\"₹ 2.71 Cr*\"))"
   ]
  },
  {
   "cell_type": "code",
   "execution_count": 9,
   "metadata": {},
   "outputs": [
    {
     "data": {
      "text/html": [
       "<div>\n",
       "<style scoped>\n",
       "    .dataframe tbody tr th:only-of-type {\n",
       "        vertical-align: middle;\n",
       "    }\n",
       "\n",
       "    .dataframe tbody tr th {\n",
       "        vertical-align: top;\n",
       "    }\n",
       "\n",
       "    .dataframe thead th {\n",
       "        text-align: right;\n",
       "    }\n",
       "</style>\n",
       "<table border=\"1\" class=\"dataframe\">\n",
       "  <thead>\n",
       "    <tr style=\"text-align: right;\">\n",
       "      <th></th>\n",
       "      <th>brand_name</th>\n",
       "      <th>model_name</th>\n",
       "      <th>starting_price</th>\n",
       "      <th>body_type</th>\n",
       "      <th>engine-cc</th>\n",
       "      <th>mileage</th>\n",
       "    </tr>\n",
       "  </thead>\n",
       "  <tbody>\n",
       "    <tr>\n",
       "      <th>0</th>\n",
       "      <td>Maruti</td>\n",
       "      <td>Alto 800</td>\n",
       "      <td>2.94</td>\n",
       "      <td>Hatchback</td>\n",
       "      <td>796.0</td>\n",
       "      <td>31.59</td>\n",
       "    </tr>\n",
       "    <tr>\n",
       "      <th>1</th>\n",
       "      <td>Maruti</td>\n",
       "      <td>Alto K10</td>\n",
       "      <td>3.17</td>\n",
       "      <td>Hatchback</td>\n",
       "      <td>998.0</td>\n",
       "      <td>32.26</td>\n",
       "    </tr>\n",
       "    <tr>\n",
       "      <th>2</th>\n",
       "      <td>Maruti</td>\n",
       "      <td>S-Presso</td>\n",
       "      <td>3.70</td>\n",
       "      <td>Hatchback</td>\n",
       "      <td>998.0</td>\n",
       "      <td>21.70</td>\n",
       "    </tr>\n",
       "    <tr>\n",
       "      <th>3</th>\n",
       "      <td>Maruti</td>\n",
       "      <td>Eeco</td>\n",
       "      <td>3.80</td>\n",
       "      <td>Minivans</td>\n",
       "      <td>1196.0</td>\n",
       "      <td>21.94</td>\n",
       "    </tr>\n",
       "    <tr>\n",
       "      <th>4</th>\n",
       "      <td>Maruti</td>\n",
       "      <td>Celerio</td>\n",
       "      <td>4.41</td>\n",
       "      <td>Hatchback</td>\n",
       "      <td>998.0</td>\n",
       "      <td>21.63</td>\n",
       "    </tr>\n",
       "  </tbody>\n",
       "</table>\n",
       "</div>"
      ],
      "text/plain": [
       "  brand_name model_name  starting_price  body_type  engine-cc  mileage\n",
       "0     Maruti   Alto 800            2.94  Hatchback      796.0    31.59\n",
       "1     Maruti   Alto K10            3.17  Hatchback      998.0    32.26\n",
       "2     Maruti   S-Presso            3.70  Hatchback      998.0    21.70\n",
       "3     Maruti       Eeco            3.80   Minivans     1196.0    21.94\n",
       "4     Maruti    Celerio            4.41  Hatchback      998.0    21.63"
      ]
     },
     "execution_count": 9,
     "metadata": {},
     "output_type": "execute_result"
    }
   ],
   "source": [
    "data['starting_price'] = data['starting_price'].apply(lambda raw_price : get_cleaned_price(raw_price))\n",
    "data.head()"
   ]
  },
  {
   "cell_type": "code",
   "execution_count": 10,
   "metadata": {},
   "outputs": [],
   "source": [
    "import matplotlib.pyplot as plt\n",
    "import seaborn as sns\n",
    "\n",
    "plt.figure(figsize=(12,10))\n",
    "sns.distplot(data['starting_price']);"
   ]
  },
  {
   "cell_type": "code",
   "execution_count": 11,
   "metadata": {},
   "outputs": [],
   "source": [
    "def get_label_for_price(price):\n",
    "    if price < 5:\n",
    "        return 'EconomicalRange'\n",
    "    elif 5 < price < 8:\n",
    "        return 'MidRange'\n",
    "    elif 8 < price < 14:\n",
    "        return 'HighRange'\n",
    "    elif 14 < price < 22:\n",
    "        return 'VeryHighRange'\n",
    "    elif 22 < price < 40:\n",
    "        return 'Luxry'\n",
    "    elif 40 < price < 80:\n",
    "        return 'HighLuxry'\n",
    "    return 'UltimateLuxry'"
   ]
  },
  {
   "cell_type": "code",
   "execution_count": 12,
   "metadata": {},
   "outputs": [
    {
     "data": {
      "text/html": [
       "<div>\n",
       "<style scoped>\n",
       "    .dataframe tbody tr th:only-of-type {\n",
       "        vertical-align: middle;\n",
       "    }\n",
       "\n",
       "    .dataframe tbody tr th {\n",
       "        vertical-align: top;\n",
       "    }\n",
       "\n",
       "    .dataframe thead th {\n",
       "        text-align: right;\n",
       "    }\n",
       "</style>\n",
       "<table border=\"1\" class=\"dataframe\">\n",
       "  <thead>\n",
       "    <tr style=\"text-align: right;\">\n",
       "      <th></th>\n",
       "      <th>brand_name</th>\n",
       "      <th>model_name</th>\n",
       "      <th>starting_price</th>\n",
       "      <th>body_type</th>\n",
       "      <th>engine-cc</th>\n",
       "      <th>mileage</th>\n",
       "      <th>segment</th>\n",
       "    </tr>\n",
       "  </thead>\n",
       "  <tbody>\n",
       "    <tr>\n",
       "      <th>217</th>\n",
       "      <td>Mini</td>\n",
       "      <td>Countryman</td>\n",
       "      <td>37.4</td>\n",
       "      <td>Hatchback</td>\n",
       "      <td>1998.0</td>\n",
       "      <td>16.60</td>\n",
       "      <td>Luxry</td>\n",
       "    </tr>\n",
       "    <tr>\n",
       "      <th>218</th>\n",
       "      <td>Mini</td>\n",
       "      <td>Cooper Convertible</td>\n",
       "      <td>38.9</td>\n",
       "      <td>Convertibles</td>\n",
       "      <td>1998.0</td>\n",
       "      <td>16.70</td>\n",
       "      <td>Luxry</td>\n",
       "    </tr>\n",
       "    <tr>\n",
       "      <th>219</th>\n",
       "      <td>Mini</td>\n",
       "      <td>Clubman</td>\n",
       "      <td>41.2</td>\n",
       "      <td>Hatchback</td>\n",
       "      <td>1998.0</td>\n",
       "      <td>13.79</td>\n",
       "      <td>HighLuxry</td>\n",
       "    </tr>\n",
       "    <tr>\n",
       "      <th>220</th>\n",
       "      <td>Aston Martin</td>\n",
       "      <td>Rapide</td>\n",
       "      <td>329.0</td>\n",
       "      <td>Sedans</td>\n",
       "      <td>5935.0</td>\n",
       "      <td>10.90</td>\n",
       "      <td>UltimateLuxry</td>\n",
       "    </tr>\n",
       "    <tr>\n",
       "      <th>221</th>\n",
       "      <td>Aston Martin</td>\n",
       "      <td>DB11</td>\n",
       "      <td>397.0</td>\n",
       "      <td>Coupe</td>\n",
       "      <td>5204.0</td>\n",
       "      <td>6.00</td>\n",
       "      <td>UltimateLuxry</td>\n",
       "    </tr>\n",
       "    <tr>\n",
       "      <th>222</th>\n",
       "      <td>Maserati</td>\n",
       "      <td>Ghibli</td>\n",
       "      <td>135.0</td>\n",
       "      <td>Sedans</td>\n",
       "      <td>2987.0</td>\n",
       "      <td>16.94</td>\n",
       "      <td>UltimateLuxry</td>\n",
       "    </tr>\n",
       "    <tr>\n",
       "      <th>223</th>\n",
       "      <td>Maserati</td>\n",
       "      <td>Levante</td>\n",
       "      <td>149.0</td>\n",
       "      <td>SUV</td>\n",
       "      <td>2979.0</td>\n",
       "      <td>12.00</td>\n",
       "      <td>UltimateLuxry</td>\n",
       "    </tr>\n",
       "    <tr>\n",
       "      <th>224</th>\n",
       "      <td>Maserati</td>\n",
       "      <td>Quattroporte</td>\n",
       "      <td>171.0</td>\n",
       "      <td>Sedans</td>\n",
       "      <td>3799.0</td>\n",
       "      <td>11.76</td>\n",
       "      <td>UltimateLuxry</td>\n",
       "    </tr>\n",
       "    <tr>\n",
       "      <th>225</th>\n",
       "      <td>Maserati</td>\n",
       "      <td>GranTurismo</td>\n",
       "      <td>225.0</td>\n",
       "      <td>Coupe</td>\n",
       "      <td>4691.0</td>\n",
       "      <td>10.00</td>\n",
       "      <td>UltimateLuxry</td>\n",
       "    </tr>\n",
       "    <tr>\n",
       "      <th>226</th>\n",
       "      <td>Maserati</td>\n",
       "      <td>GranCabrio</td>\n",
       "      <td>246.0</td>\n",
       "      <td>Convertibles</td>\n",
       "      <td>4691.0</td>\n",
       "      <td>10.20</td>\n",
       "      <td>UltimateLuxry</td>\n",
       "    </tr>\n",
       "  </tbody>\n",
       "</table>\n",
       "</div>"
      ],
      "text/plain": [
       "       brand_name          model_name  starting_price     body_type  \\\n",
       "217          Mini          Countryman            37.4     Hatchback   \n",
       "218          Mini  Cooper Convertible            38.9  Convertibles   \n",
       "219          Mini             Clubman            41.2     Hatchback   \n",
       "220  Aston Martin              Rapide           329.0        Sedans   \n",
       "221  Aston Martin                DB11           397.0         Coupe   \n",
       "222      Maserati              Ghibli           135.0        Sedans   \n",
       "223      Maserati             Levante           149.0           SUV   \n",
       "224      Maserati        Quattroporte           171.0        Sedans   \n",
       "225      Maserati         GranTurismo           225.0         Coupe   \n",
       "226      Maserati          GranCabrio           246.0  Convertibles   \n",
       "\n",
       "     engine-cc  mileage        segment  \n",
       "217     1998.0    16.60          Luxry  \n",
       "218     1998.0    16.70          Luxry  \n",
       "219     1998.0    13.79      HighLuxry  \n",
       "220     5935.0    10.90  UltimateLuxry  \n",
       "221     5204.0     6.00  UltimateLuxry  \n",
       "222     2987.0    16.94  UltimateLuxry  \n",
       "223     2979.0    12.00  UltimateLuxry  \n",
       "224     3799.0    11.76  UltimateLuxry  \n",
       "225     4691.0    10.00  UltimateLuxry  \n",
       "226     4691.0    10.20  UltimateLuxry  "
      ]
     },
     "execution_count": 12,
     "metadata": {},
     "output_type": "execute_result"
    }
   ],
   "source": [
    "data['segment'] = data['starting_price'].apply(lambda price : get_label_for_price(price))\n",
    "data.tail(10)"
   ]
  },
  {
   "cell_type": "code",
   "execution_count": 13,
   "metadata": {},
   "outputs": [
    {
     "data": {
      "text/plain": [
       "Text(0, 0.5, 'samples')"
      ]
     },
     "execution_count": 13,
     "metadata": {},
     "output_type": "execute_result"
    },
    {
     "data": {
      "image/png": "[encoded data removed]",
      "text/plain": [
       "<Figure size 864x720 with 1 Axes>"
      ]
     },
     "metadata": {
      "needs_background": "light"
     },
     "output_type": "display_data"
    }
   ],
   "source": [
    "# value count plot\n",
    "x=data.segment.value_counts()\n",
    "plt.figure(figsize=(12,10))\n",
    "sns.barplot(x.index,x)\n",
    "plt.gca().set_ylabel('samples')"
   ]
  },
  {
   "cell_type": "code",
   "execution_count": 14,
   "metadata": {},
   "outputs": [
    {
     "data": {
      "text/plain": [
       "0    Hatchback EconomicalRange\n",
       "1    Hatchback EconomicalRange\n",
       "2    Hatchback EconomicalRange\n",
       "3     Minivans EconomicalRange\n",
       "4    Hatchback EconomicalRange\n",
       "5    Hatchback EconomicalRange\n",
       "6    Hatchback EconomicalRange\n",
       "7    Hatchback EconomicalRange\n",
       "8           Hatchback MidRange\n",
       "9           Hatchback MidRange\n",
       "Name: soup, dtype: object"
      ]
     },
     "execution_count": 14,
     "metadata": {},
     "output_type": "execute_result"
    }
   ],
   "source": [
    "data['soup'] = data['body_type'] + ' ' + data['segment']\n",
    "data['soup'][ : 10]"
   ]
  },
  {
   "cell_type": "code",
   "execution_count": 15,
   "metadata": {},
   "outputs": [],
   "source": [
    "from sklearn.feature_extraction.text import CountVectorizer\n",
    "\n",
    "count = CountVectorizer(stop_words='english')\n",
    "count_matrix = count.fit_transform(data['soup'])"
   ]
  },
  {
   "cell_type": "code",
   "execution_count": 16,
   "metadata": {},
   "outputs": [
    {
     "data": {
      "text/plain": [
       "[(0, 0.4999999999999999),\n",
       " (1, 0.4999999999999999),\n",
       " (2, 0.4999999999999999),\n",
       " (3, 0.0),\n",
       " (4, 0.4999999999999999),\n",
       " (5, 0.4999999999999999),\n",
       " (6, 0.4999999999999999),\n",
       " (7, 0.4999999999999999),\n",
       " (8, 0.9999999999999998),\n",
       " (9, 0.9999999999999998)]"
      ]
     },
     "execution_count": 16,
     "metadata": {},
     "output_type": "execute_result"
    }
   ],
   "source": [
    "from sklearn.metrics.pairwise import cosine_similarity\n",
    "\n",
    "cosine_sim = cosine_similarity(count_matrix, count_matrix)\n",
    "sim_scores = list(enumerate(cosine_sim[21]))\n",
    "sim_scores[ : 10]"
   ]
  },
  {
   "cell_type": "code",
   "execution_count": 17,
   "metadata": {},
   "outputs": [
    {
     "data": {
      "text/plain": [
       "[(8, 0.9999999999999998),\n",
       " (9, 0.9999999999999998),\n",
       " (17, 0.9999999999999998),\n",
       " (18, 0.9999999999999998),\n",
       " (21, 0.9999999999999998),\n",
       " (23, 0.9999999999999998),\n",
       " (29, 0.9999999999999998),\n",
       " (37, 0.9999999999999998),\n",
       " (38, 0.9999999999999998),\n",
       " (41, 0.9999999999999998)]"
      ]
     },
     "execution_count": 17,
     "metadata": {},
     "output_type": "execute_result"
    }
   ],
   "source": [
    "sim_scores = sorted(sim_scores, key=lambda x: x[1], reverse=True)\n",
    "sim_scores[ : 10]"
   ]
  },
  {
   "cell_type": "code",
   "execution_count": 18,
   "metadata": {},
   "outputs": [
    {
     "data": {
      "text/plain": [
       "model_name\n",
       "Alto 800     0\n",
       "Alto K10     1\n",
       "S-Presso     2\n",
       "Eeco         3\n",
       "Celerio      4\n",
       "Wagon R      5\n",
       "Ignis        6\n",
       "Celerio X    7\n",
       "Swift        8\n",
       "Baleno       9\n",
       "dtype: int64"
      ]
     },
     "execution_count": 18,
     "metadata": {},
     "output_type": "execute_result"
    }
   ],
   "source": [
    "data = data.reset_index()\n",
    "indices = pd.Series(data.index, index=data['model_name'])\n",
    "indices[ : 10]"
   ]
  },
  {
   "cell_type": "code",
   "execution_count": 19,
   "metadata": {},
   "outputs": [],
   "source": [
    "def get_recommendations(title, cosine_sim=cosine_sim):\n",
    "    idx = indices[title]\n",
    "    sim_scores = list(enumerate(cosine_sim[idx]))\n",
    "    sim_scores = sorted(sim_scores, key=lambda x: x[1], reverse=True)\n",
    "    sim_scores = sim_scores[1:11]\n",
    "    movie_indices = [score[0] for score in sim_scores]\n",
    "    similarity = [score[1] for score in sim_scores]    \n",
    "    recommendationDf = pd.DataFrame({'model':data['model_name'].iloc[movie_indices], 'similarity':similarity})\n",
    "    return recommendationDf"
   ]
  },
  {
   "cell_type": "code",
   "execution_count": 20,
   "metadata": {},
   "outputs": [
    {
     "data": {
      "text/html": [
       "<div>\n",
       "<style scoped>\n",
       "    .dataframe tbody tr th:only-of-type {\n",
       "        vertical-align: middle;\n",
       "    }\n",
       "\n",
       "    .dataframe tbody tr th {\n",
       "        vertical-align: top;\n",
       "    }\n",
       "\n",
       "    .dataframe thead th {\n",
       "        text-align: right;\n",
       "    }\n",
       "</style>\n",
       "<table border=\"1\" class=\"dataframe\">\n",
       "  <thead>\n",
       "    <tr style=\"text-align: right;\">\n",
       "      <th></th>\n",
       "      <th>model</th>\n",
       "      <th>similarity</th>\n",
       "    </tr>\n",
       "  </thead>\n",
       "  <tbody>\n",
       "    <tr>\n",
       "      <th>25</th>\n",
       "      <td>Creta</td>\n",
       "      <td>1.0</td>\n",
       "    </tr>\n",
       "    <tr>\n",
       "      <th>30</th>\n",
       "      <td>WRV</td>\n",
       "      <td>1.0</td>\n",
       "    </tr>\n",
       "    <tr>\n",
       "      <th>31</th>\n",
       "      <td>BRV</td>\n",
       "      <td>1.0</td>\n",
       "    </tr>\n",
       "    <tr>\n",
       "      <th>46</th>\n",
       "      <td>Safari Storme</td>\n",
       "      <td>1.0</td>\n",
       "    </tr>\n",
       "    <tr>\n",
       "      <th>47</th>\n",
       "      <td>Harrier</td>\n",
       "      <td>1.0</td>\n",
       "    </tr>\n",
       "    <tr>\n",
       "      <th>54</th>\n",
       "      <td>XUV300</td>\n",
       "      <td>1.0</td>\n",
       "    </tr>\n",
       "    <tr>\n",
       "      <th>55</th>\n",
       "      <td>TUV 300</td>\n",
       "      <td>1.0</td>\n",
       "    </tr>\n",
       "    <tr>\n",
       "      <th>57</th>\n",
       "      <td>Thar</td>\n",
       "      <td>1.0</td>\n",
       "    </tr>\n",
       "    <tr>\n",
       "      <th>58</th>\n",
       "      <td>TUV 300 Plus</td>\n",
       "      <td>1.0</td>\n",
       "    </tr>\n",
       "    <tr>\n",
       "      <th>60</th>\n",
       "      <td>Scorpio</td>\n",
       "      <td>1.0</td>\n",
       "    </tr>\n",
       "  </tbody>\n",
       "</table>\n",
       "</div>"
      ],
      "text/plain": [
       "            model  similarity\n",
       "25          Creta         1.0\n",
       "30            WRV         1.0\n",
       "31            BRV         1.0\n",
       "46  Safari Storme         1.0\n",
       "47        Harrier         1.0\n",
       "54         XUV300         1.0\n",
       "55        TUV 300         1.0\n",
       "57           Thar         1.0\n",
       "58   TUV 300 Plus         1.0\n",
       "60        Scorpio         1.0"
      ]
     },
     "execution_count": 20,
     "metadata": {},
     "output_type": "execute_result"
    }
   ],
   "source": [
    "get_recommendations('Creta', cosine_sim)"
   ]
  },
  {
   "cell_type": "code",
   "execution_count": 21,
   "metadata": {},
   "outputs": [
    {
     "data": {
      "text/html": [
       "<div>\n",
       "<style scoped>\n",
       "    .dataframe tbody tr th:only-of-type {\n",
       "        vertical-align: middle;\n",
       "    }\n",
       "\n",
       "    .dataframe tbody tr th {\n",
       "        vertical-align: top;\n",
       "    }\n",
       "\n",
       "    .dataframe thead th {\n",
       "        text-align: right;\n",
       "    }\n",
       "</style>\n",
       "<table border=\"1\" class=\"dataframe\">\n",
       "  <thead>\n",
       "    <tr style=\"text-align: right;\">\n",
       "      <th></th>\n",
       "      <th>model</th>\n",
       "      <th>similarity</th>\n",
       "    </tr>\n",
       "  </thead>\n",
       "  <tbody>\n",
       "    <tr>\n",
       "      <th>1</th>\n",
       "      <td>Alto K10</td>\n",
       "      <td>1.0</td>\n",
       "    </tr>\n",
       "    <tr>\n",
       "      <th>2</th>\n",
       "      <td>S-Presso</td>\n",
       "      <td>1.0</td>\n",
       "    </tr>\n",
       "    <tr>\n",
       "      <th>4</th>\n",
       "      <td>Celerio</td>\n",
       "      <td>1.0</td>\n",
       "    </tr>\n",
       "    <tr>\n",
       "      <th>5</th>\n",
       "      <td>Wagon R</td>\n",
       "      <td>1.0</td>\n",
       "    </tr>\n",
       "    <tr>\n",
       "      <th>6</th>\n",
       "      <td>Ignis</td>\n",
       "      <td>1.0</td>\n",
       "    </tr>\n",
       "    <tr>\n",
       "      <th>7</th>\n",
       "      <td>Celerio X</td>\n",
       "      <td>1.0</td>\n",
       "    </tr>\n",
       "    <tr>\n",
       "      <th>16</th>\n",
       "      <td>Santro</td>\n",
       "      <td>1.0</td>\n",
       "    </tr>\n",
       "    <tr>\n",
       "      <th>36</th>\n",
       "      <td>Tiago</td>\n",
       "      <td>1.0</td>\n",
       "    </tr>\n",
       "    <tr>\n",
       "      <th>49</th>\n",
       "      <td>KUV100 NXT</td>\n",
       "      <td>1.0</td>\n",
       "    </tr>\n",
       "    <tr>\n",
       "      <th>63</th>\n",
       "      <td>KWID</td>\n",
       "      <td>1.0</td>\n",
       "    </tr>\n",
       "  </tbody>\n",
       "</table>\n",
       "</div>"
      ],
      "text/plain": [
       "         model  similarity\n",
       "1     Alto K10         1.0\n",
       "2     S-Presso         1.0\n",
       "4      Celerio         1.0\n",
       "5      Wagon R         1.0\n",
       "6        Ignis         1.0\n",
       "7    Celerio X         1.0\n",
       "16      Santro         1.0\n",
       "36       Tiago         1.0\n",
       "49  KUV100 NXT         1.0\n",
       "63        KWID         1.0"
      ]
     },
     "execution_count": 21,
     "metadata": {},
     "output_type": "execute_result"
    }
   ],
   "source": [
    "get_recommendations('Alto K10', cosine_sim)"
   ]
  },
  {
   "cell_type": "code",
   "execution_count": null,
   "metadata": {},
   "outputs": [],
   "source": []
  }
 ],
 "metadata": {
  "kernelspec": {
   "display_name": "Python 3",
   "language": "python",
   "name": "python3"
  },
  "language_info": {
   "codemirror_mode": {
    "name": "ipython",
    "version": 3
   },
   "file_extension": ".py",
   "mimetype": "text/x-python",
   "name": "python",
   "nbconvert_exporter": "python",
   "pygments_lexer": "ipython3",
   "version": "3.7.3"
  }
 },
 "nbformat": 4,
 "nbformat_minor": 2
}
